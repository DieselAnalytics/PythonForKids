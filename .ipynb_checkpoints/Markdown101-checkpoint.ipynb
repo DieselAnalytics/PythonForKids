{
 "cells": [
  {
   "cell_type": "markdown",
   "metadata": {},
   "source": [
    "# How to use Markdown in Jupyter Notebooks"
   ]
  },
  {
   "cell_type": "markdown",
   "metadata": {},
   "source": [
    "### 1. How to type regular texts\n"
   ]
  },
  {
   "cell_type": "markdown",
   "metadata": {
    "collapsed": true
   },
   "source": [
    "Just type the text that you want.\n",
    "\n",
    "If you want to type a new paragraph just hit return twice after the last sentence of the old paragraph to place a blank line in between the two."
   ]
  },
  {
   "cell_type": "code",
   "execution_count": null,
   "metadata": {
    "collapsed": true
   },
   "outputs": [],
   "source": []
  },
  {
   "cell_type": "markdown",
   "metadata": {},
   "source": [
    "### 2. How to make a cell a \"Code\" cell\n",
    "* Go to the cell that you want to be a code cell\n",
    "* Make sure \"Code\" is selected in the cell type combobox. The toolbar should look like the image below\n",
    "\n",
    "<img src=\"ToolbarCode.jpg\">\n"
   ]
  },
  {
   "cell_type": "code",
   "execution_count": null,
   "metadata": {
    "collapsed": true
   },
   "outputs": [],
   "source": []
  },
  {
   "cell_type": "markdown",
   "metadata": {},
   "source": [
    "### 3. How to run the code in a cell\n",
    "* Select the cell that you want to run\n",
    "* Press \"[Shift]+[Enter]\"\n"
   ]
  },
  {
   "cell_type": "code",
   "execution_count": null,
   "metadata": {
    "collapsed": true
   },
   "outputs": [],
   "source": []
  },
  {
   "cell_type": "markdown",
   "metadata": {},
   "source": [
    "### 4. How to make a cell a \"Markdown\" cell\n",
    "\n",
    "* Select the cell that you want to change to a \"Markdown\" cell\n",
    "* Make sure that the cell type is a code cell. Your toolbar should look like the image below.\n",
    "    <img src=\"ToolbarCode.jpg\">\n",
    "* Write the text and include any \"Markdown\" code for formatting\n",
    "* Go to the top of the notebook and select \"Markdown\" for the cell type.\n",
    "* Make sure the toolbar looks like the image below.\n",
    "<img src=\"ToolbarMarkdown.jpg\">\n",
    "* Make sure the cell that you want to convert to a \"Markdown\" cell is select\n",
    "* Run the cell"
   ]
  },
  {
   "cell_type": "code",
   "execution_count": null,
   "metadata": {
    "collapsed": true
   },
   "outputs": [],
   "source": []
  },
  {
   "cell_type": "markdown",
   "metadata": {
    "collapsed": true
   },
   "source": [
    "### 5. How to make \"Headers\"\n",
    "* Go to the tool bar and make sure that \"Code\" is selected in the cell type combo box\n",
    "* Start the line with a \"#\" for the main header and \"##\" for the secondary header\n",
    "* Type a space then the text that you want in your header\n",
    "* Go to the cell type combo box and select \"Markdown\" as your cell type\n",
    "* Code to the cell that you want to make header and press \"[Shift]+{Enter]}\"\n",
    "    \n",
    "If you type \"## My Header Row\" in the code cell below you will get what's in the markdown cell below"
   ]
  },
  {
   "cell_type": "markdown",
   "metadata": {
    "collapsed": true
   },
   "source": [
    "### My Header Row"
   ]
  },
  {
   "cell_type": "code",
   "execution_count": null,
   "metadata": {
    "collapsed": true
   },
   "outputs": [],
   "source": []
  },
  {
   "cell_type": "markdown",
   "metadata": {},
   "source": [
    "### 6. How to make lists\n",
    "If you type the following code in a code cell, convert it into a markdow cell, then run the cell you will get a markdown cell you will get the markdown cell similar to the one below\n",
    "\n",
    "    * Item 1\n",
    "        * Item 1a\n",
    "        * Item 1b\n",
    "    * Item 2\n",
    "        * Item 2a\n",
    "        * Item 2b\n",
    "        * Item 2c"
   ]
  },
  {
   "cell_type": "markdown",
   "metadata": {
    "collapsed": true
   },
   "source": [
    "* Item 1\n",
    "    * Item 1a\n",
    "    * Item 1b\n",
    "* Item 2\n",
    "    * Item 2a\n",
    "    * Item 2b\n",
    "    * Item 2c"
   ]
  },
  {
   "cell_type": "markdown",
   "metadata": {
    "collapsed": true
   },
   "source": [
    "If you type the following code in a code cell, convert it into a markdow cell, then run the cell you will get a markdown cell you will get the markdown cell similar to the one below\n",
    "\n",
    "    1. Item 1\n",
    "        1. Item 1a\n",
    "        2. Item 1b\n",
    "    1. Item 2\n",
    "        1. Item 2a\n",
    "        2. Item 2b\n",
    "        3. Item 2c\n"
   ]
  },
  {
   "cell_type": "markdown",
   "metadata": {},
   "source": [
    "1. Item 1\n",
    "    1. Item 1a\n",
    "    2. Item 1b\n",
    "1. Item 2\n",
    "    1. Item 2a\n",
    "    2. Item 2b\n",
    "    3. Item 2c\n"
   ]
  },
  {
   "cell_type": "code",
   "execution_count": null,
   "metadata": {
    "collapsed": true
   },
   "outputs": [],
   "source": []
  },
  {
   "cell_type": "markdown",
   "metadata": {},
   "source": [
    "### 7. How to make words BOLD\n",
    "\n",
    "To make text in a markdown cell **BOLD** you can do so by encapsulating (surrounding) the text with \"**\" or \"__\" (two underscores)\n",
    "\n",
    "When you type the string \"\\*\\*Asterisks Method\\*\\*\" or \"\\__Underscore Method\\__\" you get the text below. (Make sure to remove the quotation markes)"
   ]
  },
  {
   "cell_type": "markdown",
   "metadata": {
    "collapsed": true
   },
   "source": [
    "**Asterisks Method**\n",
    "\n",
    "__Underscore Method__"
   ]
  },
  {
   "cell_type": "code",
   "execution_count": null,
   "metadata": {
    "collapsed": true
   },
   "outputs": [],
   "source": []
  },
  {
   "cell_type": "markdown",
   "metadata": {},
   "source": [
    "### 8. How to make *ITALICIZE* words\n",
    "To make text in a markdown cell *ITALICIZE* you can do so by encapsulating the text with \"*\" or \"_\" (one underscores)\n",
    "\n",
    "When you type the string \"\\*Asterisks Method\\*\" or \"\\_Underscore Method\\_\" you get the text below. (Make sure to remove the quotation markes)\n"
   ]
  },
  {
   "cell_type": "markdown",
   "metadata": {
    "collapsed": true
   },
   "source": [
    "*Asterisks Method*\n",
    "\n",
    "_Underscore Method_ "
   ]
  },
  {
   "cell_type": "code",
   "execution_count": null,
   "metadata": {
    "collapsed": true
   },
   "outputs": [],
   "source": []
  },
  {
   "cell_type": "markdown",
   "metadata": {
    "collapsed": true
   },
   "source": [
    "### 9. How to make words that are both ITALICIZE and BOLD\n",
    "\n",
    "To make text in a markdown cell ***ITALICIZE*** and ***BOLD*** you can do so by encapsulating the text with \"*\" or \"_\" (one underscores)\n",
    "\n",
    "When you type the string \"\\*\\*\\*Asterisks Method\\*\\*\\*\" or \"\\_\\_\\_Underscore Method\\_\\_\\_\" you get the text below. (Make sure to remove the quotation markes)\n"
   ]
  },
  {
   "cell_type": "markdown",
   "metadata": {},
   "source": [
    "***Asterisks Method***\n",
    "\n",
    "___Underscore Method___"
   ]
  },
  {
   "cell_type": "code",
   "execution_count": null,
   "metadata": {
    "collapsed": true
   },
   "outputs": [],
   "source": []
  }
 ],
 "metadata": {
  "kernelspec": {
   "display_name": "Python 3",
   "language": "python",
   "name": "python3"
  },
  "language_info": {
   "codemirror_mode": {
    "name": "ipython",
    "version": 3
   },
   "file_extension": ".py",
   "mimetype": "text/x-python",
   "name": "python",
   "nbconvert_exporter": "python",
   "pygments_lexer": "ipython3",
   "version": "3.5.1"
  }
 },
 "nbformat": 4,
 "nbformat_minor": 0
}
